{
 "cells": [
  {
   "cell_type": "markdown",
   "id": "a75f99dc",
   "metadata": {},
   "source": [
    "- Droping columns\n",
    "- Droping rows\n",
    "- Varoius parameters in dropping functionalities\n",
    "- Handling missing values by Mean,Median and Mode (Imputer)"
   ]
  },
  {
   "cell_type": "code",
   "execution_count": 1,
   "id": "a94bc078",
   "metadata": {},
   "outputs": [],
   "source": [
    "from pyspark.sql import SparkSession\n",
    "spark = SparkSession.builder.appName('PS3').getOrCreate()"
   ]
  },
  {
   "cell_type": "code",
   "execution_count": 2,
   "id": "82f363f5",
   "metadata": {},
   "outputs": [
    {
     "data": {
      "text/html": [
       "\n",
       "            <div>\n",
       "                <p><b>SparkSession - in-memory</b></p>\n",
       "                \n",
       "        <div>\n",
       "            <p><b>SparkContext</b></p>\n",
       "\n",
       "            <p><a href=\"http://DESKTOP-A8U79LR:4040\">Spark UI</a></p>\n",
       "\n",
       "            <dl>\n",
       "              <dt>Version</dt>\n",
       "                <dd><code>v3.4.1</code></dd>\n",
       "              <dt>Master</dt>\n",
       "                <dd><code>local[*]</code></dd>\n",
       "              <dt>AppName</dt>\n",
       "                <dd><code>PS3</code></dd>\n",
       "            </dl>\n",
       "        </div>\n",
       "        \n",
       "            </div>\n",
       "        "
      ],
      "text/plain": [
       "<pyspark.sql.session.SparkSession at 0x1c47f5517f0>"
      ]
     },
     "execution_count": 2,
     "metadata": {},
     "output_type": "execute_result"
    }
   ],
   "source": [
    "spark"
   ]
  },
  {
   "cell_type": "code",
   "execution_count": 4,
   "id": "855bbf9f",
   "metadata": {},
   "outputs": [
    {
     "name": "stdout",
     "output_type": "stream",
     "text": [
      "+-------+----+----------+------+\n",
      "|   Name| Age|Experience|Salary|\n",
      "+-------+----+----------+------+\n",
      "|   Fred|  34|         9| 20000|\n",
      "|   Jack|  21|         4| 44000|\n",
      "| Arevan|  24|        10| 60000|\n",
      "|   Cara|  27|         5| 15000|\n",
      "|  Ethan|  43|         8| 50000|\n",
      "|   Mary|  38|         2| 45000|\n",
      "|Richard|null|      null| 70000|\n",
      "|   null|  25|        10| 25000|\n",
      "|   null|  30|      null|  null|\n",
      "+-------+----+----------+------+\n",
      "\n"
     ]
    }
   ],
   "source": [
    "df= spark.read.csv('ps3.csv',header=True,inferSchema=True)\n",
    "df.show()"
   ]
  },
  {
   "cell_type": "code",
   "execution_count": 5,
   "id": "934b0804",
   "metadata": {},
   "outputs": [
    {
     "name": "stdout",
     "output_type": "stream",
     "text": [
      "+----+----------+------+\n",
      "| Age|Experience|Salary|\n",
      "+----+----------+------+\n",
      "|  34|         9| 20000|\n",
      "|  21|         4| 44000|\n",
      "|  24|        10| 60000|\n",
      "|  27|         5| 15000|\n",
      "|  43|         8| 50000|\n",
      "|  38|         2| 45000|\n",
      "|null|      null| 70000|\n",
      "|  25|        10| 25000|\n",
      "|  30|      null|  null|\n",
      "+----+----------+------+\n",
      "\n"
     ]
    }
   ],
   "source": [
    "#drop column\n",
    "\n",
    "df.drop('Name').show()"
   ]
  },
  {
   "cell_type": "code",
   "execution_count": 6,
   "id": "8979107f",
   "metadata": {},
   "outputs": [
    {
     "name": "stdout",
     "output_type": "stream",
     "text": [
      "+-------+----+----------+------+\n",
      "|   Name| Age|Experience|Salary|\n",
      "+-------+----+----------+------+\n",
      "|   Fred|  34|         9| 20000|\n",
      "|   Jack|  21|         4| 44000|\n",
      "| Arevan|  24|        10| 60000|\n",
      "|   Cara|  27|         5| 15000|\n",
      "|  Ethan|  43|         8| 50000|\n",
      "|   Mary|  38|         2| 45000|\n",
      "|Richard|null|      null| 70000|\n",
      "|   null|  25|        10| 25000|\n",
      "|   null|  30|      null|  null|\n",
      "+-------+----+----------+------+\n",
      "\n"
     ]
    }
   ],
   "source": [
    "df.show()"
   ]
  },
  {
   "cell_type": "code",
   "execution_count": 7,
   "id": "bd12ac19",
   "metadata": {},
   "outputs": [
    {
     "name": "stdout",
     "output_type": "stream",
     "text": [
      "+------+---+----------+------+\n",
      "|  Name|Age|Experience|Salary|\n",
      "+------+---+----------+------+\n",
      "|  Fred| 34|         9| 20000|\n",
      "|  Jack| 21|         4| 44000|\n",
      "|Arevan| 24|        10| 60000|\n",
      "|  Cara| 27|         5| 15000|\n",
      "| Ethan| 43|         8| 50000|\n",
      "|  Mary| 38|         2| 45000|\n",
      "+------+---+----------+------+\n",
      "\n"
     ]
    }
   ],
   "source": [
    "df.na.drop().show()   #delete all null rows"
   ]
  },
  {
   "cell_type": "code",
   "execution_count": 8,
   "id": "5ec4b488",
   "metadata": {},
   "outputs": [
    {
     "name": "stdout",
     "output_type": "stream",
     "text": [
      "+-------+----+----------+------+\n",
      "|   Name| Age|Experience|Salary|\n",
      "+-------+----+----------+------+\n",
      "|   Fred|  34|         9| 20000|\n",
      "|   Jack|  21|         4| 44000|\n",
      "| Arevan|  24|        10| 60000|\n",
      "|   Cara|  27|         5| 15000|\n",
      "|  Ethan|  43|         8| 50000|\n",
      "|   Mary|  38|         2| 45000|\n",
      "|Richard|null|      null| 70000|\n",
      "|   null|  25|        10| 25000|\n",
      "|   null|  30|      null|  null|\n",
      "+-------+----+----------+------+\n",
      "\n"
     ]
    }
   ],
   "source": [
    "# any==how\n",
    "df.na.drop(how=\"all\").show()  #how=all  if row all null"
   ]
  },
  {
   "cell_type": "code",
   "execution_count": 9,
   "id": "9f92b908",
   "metadata": {},
   "outputs": [
    {
     "name": "stdout",
     "output_type": "stream",
     "text": [
      "+------+---+----------+------+\n",
      "|  Name|Age|Experience|Salary|\n",
      "+------+---+----------+------+\n",
      "|  Fred| 34|         9| 20000|\n",
      "|  Jack| 21|         4| 44000|\n",
      "|Arevan| 24|        10| 60000|\n",
      "|  Cara| 27|         5| 15000|\n",
      "| Ethan| 43|         8| 50000|\n",
      "|  Mary| 38|         2| 45000|\n",
      "+------+---+----------+------+\n",
      "\n"
     ]
    }
   ],
   "source": [
    "df.na.drop(how=\"any\").show()  #how=any  any null row"
   ]
  },
  {
   "cell_type": "code",
   "execution_count": 10,
   "id": "70e507ff",
   "metadata": {
    "scrolled": true
   },
   "outputs": [
    {
     "name": "stdout",
     "output_type": "stream",
     "text": [
      "+-------+----+----------+------+\n",
      "|   Name| Age|Experience|Salary|\n",
      "+-------+----+----------+------+\n",
      "|   Fred|  34|         9| 20000|\n",
      "|   Jack|  21|         4| 44000|\n",
      "| Arevan|  24|        10| 60000|\n",
      "|   Cara|  27|         5| 15000|\n",
      "|  Ethan|  43|         8| 50000|\n",
      "|   Mary|  38|         2| 45000|\n",
      "|Richard|null|      null| 70000|\n",
      "|   null|  25|        10| 25000|\n",
      "+-------+----+----------+------+\n",
      "\n"
     ]
    }
   ],
   "source": [
    "df.na.drop(how=\"any\",thresh=2).show()  #at least 2 null value can have others drop"
   ]
  },
  {
   "cell_type": "code",
   "execution_count": 11,
   "id": "fdb92861",
   "metadata": {},
   "outputs": [
    {
     "name": "stdout",
     "output_type": "stream",
     "text": [
      "+-------+----+----------+------+\n",
      "|   Name| Age|Experience|Salary|\n",
      "+-------+----+----------+------+\n",
      "|   Fred|  34|         9| 20000|\n",
      "|   Jack|  21|         4| 44000|\n",
      "| Arevan|  24|        10| 60000|\n",
      "|   Cara|  27|         5| 15000|\n",
      "|  Ethan|  43|         8| 50000|\n",
      "|   Mary|  38|         2| 45000|\n",
      "|Richard|null|      null| 70000|\n",
      "|   null|  25|        10| 25000|\n",
      "|   null|  30|      null|  null|\n",
      "+-------+----+----------+------+\n",
      "\n"
     ]
    }
   ],
   "source": [
    "df.na.drop(how=\"any\",thresh=1).show()"
   ]
  },
  {
   "cell_type": "code",
   "execution_count": 12,
   "id": "602c8ef7",
   "metadata": {},
   "outputs": [
    {
     "name": "stdout",
     "output_type": "stream",
     "text": [
      "+------+---+----------+------+\n",
      "|  Name|Age|Experience|Salary|\n",
      "+------+---+----------+------+\n",
      "|  Fred| 34|         9| 20000|\n",
      "|  Jack| 21|         4| 44000|\n",
      "|Arevan| 24|        10| 60000|\n",
      "|  Cara| 27|         5| 15000|\n",
      "| Ethan| 43|         8| 50000|\n",
      "|  Mary| 38|         2| 45000|\n",
      "|  null| 25|        10| 25000|\n",
      "+------+---+----------+------+\n",
      "\n"
     ]
    }
   ],
   "source": [
    "#subset\n",
    "\n",
    "df.na.drop(how=\"any\",subset=['Experience']).show()  # if subset column have null that row drop"
   ]
  },
  {
   "cell_type": "code",
   "execution_count": 18,
   "id": "d2afee35",
   "metadata": {},
   "outputs": [
    {
     "name": "stdout",
     "output_type": "stream",
     "text": [
      "+--------------+----+----------+------+\n",
      "|          Name| Age|Experience|Salary|\n",
      "+--------------+----+----------+------+\n",
      "|          Fred|  34|         9| 20000|\n",
      "|          Jack|  21|         4| 44000|\n",
      "|        Arevan|  24|        10| 60000|\n",
      "|          Cara|  27|         5| 15000|\n",
      "|         Ethan|  43|         8| 50000|\n",
      "|          Mary|  38|         2| 45000|\n",
      "|       Richard|null|      null| 70000|\n",
      "|Missing Values|  25|        10| 25000|\n",
      "|Missing Values|  30|      null|  null|\n",
      "+--------------+----+----------+------+\n",
      "\n"
     ]
    }
   ],
   "source": [
    "#Fill the missing values\n",
    "\n",
    "df.na.fill('Missing Values').show()   #only string"
   ]
  },
  {
   "cell_type": "code",
   "execution_count": 19,
   "id": "a616e27e",
   "metadata": {},
   "outputs": [
    {
     "name": "stdout",
     "output_type": "stream",
     "text": [
      "+-------+---+----------+------+\n",
      "|   Name|Age|Experience|Salary|\n",
      "+-------+---+----------+------+\n",
      "|   Fred| 34|         9| 20000|\n",
      "|   Jack| 21|         4| 44000|\n",
      "| Arevan| 24|        10| 60000|\n",
      "|   Cara| 27|         5| 15000|\n",
      "|  Ethan| 43|         8| 50000|\n",
      "|   Mary| 38|         2| 45000|\n",
      "|Richard|  0|         0| 70000|\n",
      "|   null| 25|        10| 25000|\n",
      "|   null| 30|         0|     0|\n",
      "+-------+---+----------+------+\n",
      "\n"
     ]
    }
   ],
   "source": [
    "df.na.fill(0).show()  #only integers"
   ]
  },
  {
   "cell_type": "code",
   "execution_count": 23,
   "id": "88fa4620",
   "metadata": {},
   "outputs": [
    {
     "name": "stdout",
     "output_type": "stream",
     "text": [
      "+-------+----+----------+------+\n",
      "|   Name| Age|Experience|Salary|\n",
      "+-------+----+----------+------+\n",
      "|   Fred|  34|         9| 20000|\n",
      "|   Jack|  21|         4| 44000|\n",
      "| Arevan|  24|        10| 60000|\n",
      "|   Cara|  27|         5| 15000|\n",
      "|  Ethan|  43|         8| 50000|\n",
      "|   Mary|  38|         2| 45000|\n",
      "|Richard|null|         0| 70000|\n",
      "|   null|  25|        10| 25000|\n",
      "|   null|  30|         0|  null|\n",
      "+-------+----+----------+------+\n",
      "\n"
     ]
    }
   ],
   "source": [
    "df.na.fill(0,'Experience').show()"
   ]
  },
  {
   "cell_type": "code",
   "execution_count": 24,
   "id": "e5420330",
   "metadata": {},
   "outputs": [
    {
     "name": "stdout",
     "output_type": "stream",
     "text": [
      "+-------+----+----------+------+\n",
      "|   Name| Age|Experience|Salary|\n",
      "+-------+----+----------+------+\n",
      "|   Fred|  34|         9| 20000|\n",
      "|   Jack|  21|         4| 44000|\n",
      "| Arevan|  24|        10| 60000|\n",
      "|   Cara|  27|         5| 15000|\n",
      "|  Ethan|  43|         8| 50000|\n",
      "|   Mary|  38|         2| 45000|\n",
      "|Richard|null|         0| 70000|\n",
      "|   null|  25|        10| 25000|\n",
      "|   null|  30|         0|     0|\n",
      "+-------+----+----------+------+\n",
      "\n"
     ]
    }
   ],
   "source": [
    "df.na.fill(0,['Experience','Salary']).show()"
   ]
  },
  {
   "cell_type": "code",
   "execution_count": null,
   "id": "a863e641",
   "metadata": {},
   "outputs": [],
   "source": [
    "#----------------------------Imputed Values"
   ]
  },
  {
   "cell_type": "code",
   "execution_count": 25,
   "id": "9f4471b8",
   "metadata": {},
   "outputs": [
    {
     "name": "stdout",
     "output_type": "stream",
     "text": [
      "+-------+----+----------+------+\n",
      "|   Name| Age|Experience|Salary|\n",
      "+-------+----+----------+------+\n",
      "|   Fred|  34|         9| 20000|\n",
      "|   Jack|  21|         4| 44000|\n",
      "| Arevan|  24|        10| 60000|\n",
      "|   Cara|  27|         5| 15000|\n",
      "|  Ethan|  43|         8| 50000|\n",
      "|   Mary|  38|         2| 45000|\n",
      "|Richard|null|      null| 70000|\n",
      "|   null|  25|        10| 25000|\n",
      "|   null|  30|      null|  null|\n",
      "+-------+----+----------+------+\n",
      "\n"
     ]
    }
   ],
   "source": [
    "df.show()"
   ]
  },
  {
   "cell_type": "code",
   "execution_count": 26,
   "id": "e55739c4",
   "metadata": {},
   "outputs": [],
   "source": [
    "from pyspark.ml.feature import Imputer\n",
    "\n",
    "imputer = Imputer(\n",
    "    inputCols=['Age','Experience','Salary'],\n",
    "    outputCols=[\"{}_imputed\".format(c) for c in ['Age','Experience','Salary']]\n",
    ").setStrategy(\"mean\")"
   ]
  },
  {
   "cell_type": "code",
   "execution_count": 27,
   "id": "8587be46",
   "metadata": {},
   "outputs": [
    {
     "name": "stdout",
     "output_type": "stream",
     "text": [
      "+-------+----+----------+------+-----------+------------------+--------------+\n",
      "|   Name| Age|Experience|Salary|Age_imputed|Experience_imputed|Salary_imputed|\n",
      "+-------+----+----------+------+-----------+------------------+--------------+\n",
      "|   Fred|  34|         9| 20000|         34|                 9|         20000|\n",
      "|   Jack|  21|         4| 44000|         21|                 4|         44000|\n",
      "| Arevan|  24|        10| 60000|         24|                10|         60000|\n",
      "|   Cara|  27|         5| 15000|         27|                 5|         15000|\n",
      "|  Ethan|  43|         8| 50000|         43|                 8|         50000|\n",
      "|   Mary|  38|         2| 45000|         38|                 2|         45000|\n",
      "|Richard|null|      null| 70000|         30|                 6|         70000|\n",
      "|   null|  25|        10| 25000|         25|                10|         25000|\n",
      "|   null|  30|      null|  null|         30|                 6|         41125|\n",
      "+-------+----+----------+------+-----------+------------------+--------------+\n",
      "\n"
     ]
    }
   ],
   "source": [
    "# add imputation cols to df\n",
    "\n",
    "imputer.fit(df).transform(df).show()"
   ]
  },
  {
   "cell_type": "code",
   "execution_count": 28,
   "id": "9991d0ff",
   "metadata": {},
   "outputs": [
    {
     "name": "stdout",
     "output_type": "stream",
     "text": [
      "+-------+----+----------+------+-----------+------------------+--------------+\n",
      "|   Name| Age|Experience|Salary|Age_imputed|Experience_imputed|Salary_imputed|\n",
      "+-------+----+----------+------+-----------+------------------+--------------+\n",
      "|   Fred|  34|         9| 20000|         34|                 9|         20000|\n",
      "|   Jack|  21|         4| 44000|         21|                 4|         44000|\n",
      "| Arevan|  24|        10| 60000|         24|                10|         60000|\n",
      "|   Cara|  27|         5| 15000|         27|                 5|         15000|\n",
      "|  Ethan|  43|         8| 50000|         43|                 8|         50000|\n",
      "|   Mary|  38|         2| 45000|         38|                 2|         45000|\n",
      "|Richard|null|      null| 70000|         27|                 8|         70000|\n",
      "|   null|  25|        10| 25000|         25|                10|         25000|\n",
      "|   null|  30|      null|  null|         30|                 8|         44000|\n",
      "+-------+----+----------+------+-----------+------------------+--------------+\n",
      "\n"
     ]
    }
   ],
   "source": [
    "#meadin imputer\n",
    "\n",
    "from pyspark.ml.feature import Imputer\n",
    "\n",
    "imputer = Imputer(\n",
    "    inputCols=['Age','Experience','Salary'],\n",
    "    outputCols=[\"{}_imputed\".format(c) for c in ['Age','Experience','Salary']]\n",
    ").setStrategy(\"median\")\n",
    "\n",
    "imputer.fit(df).transform(df).show()"
   ]
  }
 ],
 "metadata": {
  "kernelspec": {
   "display_name": "Python 3 (ipykernel)",
   "language": "python",
   "name": "python3"
  },
  "language_info": {
   "codemirror_mode": {
    "name": "ipython",
    "version": 3
   },
   "file_extension": ".py",
   "mimetype": "text/x-python",
   "name": "python",
   "nbconvert_exporter": "python",
   "pygments_lexer": "ipython3",
   "version": "3.9.12"
  },
  "varInspector": {
   "cols": {
    "lenName": 16,
    "lenType": 16,
    "lenVar": 40
   },
   "kernels_config": {
    "python": {
     "delete_cmd_postfix": "",
     "delete_cmd_prefix": "del ",
     "library": "var_list.py",
     "varRefreshCmd": "print(var_dic_list())"
    },
    "r": {
     "delete_cmd_postfix": ") ",
     "delete_cmd_prefix": "rm(",
     "library": "var_list.r",
     "varRefreshCmd": "cat(var_dic_list()) "
    }
   },
   "types_to_exclude": [
    "module",
    "function",
    "builtin_function_or_method",
    "instance",
    "_Feature"
   ],
   "window_display": false
  }
 },
 "nbformat": 4,
 "nbformat_minor": 5
}
